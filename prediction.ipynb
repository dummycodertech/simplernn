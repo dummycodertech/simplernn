{
 "cells": [
  {
   "cell_type": "code",
   "execution_count": null,
   "metadata": {},
   "outputs": [],
   "source": []
  },
  {
   "cell_type": "code",
   "execution_count": 3,
   "metadata": {},
   "outputs": [],
   "source": [
    "# Step 1: Import Libraries and Load the Model\n",
    "import numpy as np\n",
    "import tensorflow as tf\n",
    "from tensorflow.keras.datasets import imdb\n",
    "from tensorflow.keras.preprocessing import sequence\n",
    "from tensorflow.keras.models import load_model"
   ]
  },
  {
   "cell_type": "code",
   "execution_count": 4,
   "metadata": {},
   "outputs": [],
   "source": [
    "\n",
    "# Load the IMDB dataset word index\n",
    "word_index = imdb.get_word_index()\n",
    "reverse_word_index = {value: key for key, value in word_index.items()}"
   ]
  },
  {
   "cell_type": "code",
   "execution_count": 5,
   "metadata": {},
   "outputs": [
    {
     "name": "stderr",
     "output_type": "stream",
     "text": [
      "WARNING:absl:Compiled the loaded model, but the compiled metrics have yet to be built. `model.compile_metrics` will be empty until you train or evaluate the model.\n"
     ]
    },
    {
     "data": {
      "text/html": [
       "<pre style=\"white-space:pre;overflow-x:auto;line-height:normal;font-family:Menlo,'DejaVu Sans Mono',consolas,'Courier New',monospace\"><span style=\"font-weight: bold\">Model: \"sequential\"</span>\n",
       "</pre>\n"
      ],
      "text/plain": [
       "\u001b[1mModel: \"sequential\"\u001b[0m\n"
      ]
     },
     "metadata": {},
     "output_type": "display_data"
    },
    {
     "data": {
      "text/html": [
       "<pre style=\"white-space:pre;overflow-x:auto;line-height:normal;font-family:Menlo,'DejaVu Sans Mono',consolas,'Courier New',monospace\">┏━━━━━━━━━━━━━━━━━━━━━━━━━━━━━━━━━┳━━━━━━━━━━━━━━━━━━━━━━━━┳━━━━━━━━━━━━━━━┓\n",
       "┃<span style=\"font-weight: bold\"> Layer (type)                    </span>┃<span style=\"font-weight: bold\"> Output Shape           </span>┃<span style=\"font-weight: bold\">       Param # </span>┃\n",
       "┡━━━━━━━━━━━━━━━━━━━━━━━━━━━━━━━━━╇━━━━━━━━━━━━━━━━━━━━━━━━╇━━━━━━━━━━━━━━━┩\n",
       "│ embedding (<span style=\"color: #0087ff; text-decoration-color: #0087ff\">Embedding</span>)           │ (<span style=\"color: #00af00; text-decoration-color: #00af00\">32</span>, <span style=\"color: #00af00; text-decoration-color: #00af00\">500</span>, <span style=\"color: #00af00; text-decoration-color: #00af00\">128</span>)         │     <span style=\"color: #00af00; text-decoration-color: #00af00\">1,280,000</span> │\n",
       "├─────────────────────────────────┼────────────────────────┼───────────────┤\n",
       "│ simple_rnn (<span style=\"color: #0087ff; text-decoration-color: #0087ff\">SimpleRNN</span>)          │ (<span style=\"color: #00af00; text-decoration-color: #00af00\">32</span>, <span style=\"color: #00af00; text-decoration-color: #00af00\">128</span>)              │        <span style=\"color: #00af00; text-decoration-color: #00af00\">32,896</span> │\n",
       "├─────────────────────────────────┼────────────────────────┼───────────────┤\n",
       "│ dense (<span style=\"color: #0087ff; text-decoration-color: #0087ff\">Dense</span>)                   │ (<span style=\"color: #00af00; text-decoration-color: #00af00\">32</span>, <span style=\"color: #00af00; text-decoration-color: #00af00\">1</span>)                │           <span style=\"color: #00af00; text-decoration-color: #00af00\">129</span> │\n",
       "└─────────────────────────────────┴────────────────────────┴───────────────┘\n",
       "</pre>\n"
      ],
      "text/plain": [
       "┏━━━━━━━━━━━━━━━━━━━━━━━━━━━━━━━━━┳━━━━━━━━━━━━━━━━━━━━━━━━┳━━━━━━━━━━━━━━━┓\n",
       "┃\u001b[1m \u001b[0m\u001b[1mLayer (type)                   \u001b[0m\u001b[1m \u001b[0m┃\u001b[1m \u001b[0m\u001b[1mOutput Shape          \u001b[0m\u001b[1m \u001b[0m┃\u001b[1m \u001b[0m\u001b[1m      Param #\u001b[0m\u001b[1m \u001b[0m┃\n",
       "┡━━━━━━━━━━━━━━━━━━━━━━━━━━━━━━━━━╇━━━━━━━━━━━━━━━━━━━━━━━━╇━━━━━━━━━━━━━━━┩\n",
       "│ embedding (\u001b[38;5;33mEmbedding\u001b[0m)           │ (\u001b[38;5;34m32\u001b[0m, \u001b[38;5;34m500\u001b[0m, \u001b[38;5;34m128\u001b[0m)         │     \u001b[38;5;34m1,280,000\u001b[0m │\n",
       "├─────────────────────────────────┼────────────────────────┼───────────────┤\n",
       "│ simple_rnn (\u001b[38;5;33mSimpleRNN\u001b[0m)          │ (\u001b[38;5;34m32\u001b[0m, \u001b[38;5;34m128\u001b[0m)              │        \u001b[38;5;34m32,896\u001b[0m │\n",
       "├─────────────────────────────────┼────────────────────────┼───────────────┤\n",
       "│ dense (\u001b[38;5;33mDense\u001b[0m)                   │ (\u001b[38;5;34m32\u001b[0m, \u001b[38;5;34m1\u001b[0m)                │           \u001b[38;5;34m129\u001b[0m │\n",
       "└─────────────────────────────────┴────────────────────────┴───────────────┘\n"
      ]
     },
     "metadata": {},
     "output_type": "display_data"
    },
    {
     "data": {
      "text/html": [
       "<pre style=\"white-space:pre;overflow-x:auto;line-height:normal;font-family:Menlo,'DejaVu Sans Mono',consolas,'Courier New',monospace\"><span style=\"font-weight: bold\"> Total params: </span><span style=\"color: #00af00; text-decoration-color: #00af00\">1,313,027</span> (5.01 MB)\n",
       "</pre>\n"
      ],
      "text/plain": [
       "\u001b[1m Total params: \u001b[0m\u001b[38;5;34m1,313,027\u001b[0m (5.01 MB)\n"
      ]
     },
     "metadata": {},
     "output_type": "display_data"
    },
    {
     "data": {
      "text/html": [
       "<pre style=\"white-space:pre;overflow-x:auto;line-height:normal;font-family:Menlo,'DejaVu Sans Mono',consolas,'Courier New',monospace\"><span style=\"font-weight: bold\"> Trainable params: </span><span style=\"color: #00af00; text-decoration-color: #00af00\">1,313,025</span> (5.01 MB)\n",
       "</pre>\n"
      ],
      "text/plain": [
       "\u001b[1m Trainable params: \u001b[0m\u001b[38;5;34m1,313,025\u001b[0m (5.01 MB)\n"
      ]
     },
     "metadata": {},
     "output_type": "display_data"
    },
    {
     "data": {
      "text/html": [
       "<pre style=\"white-space:pre;overflow-x:auto;line-height:normal;font-family:Menlo,'DejaVu Sans Mono',consolas,'Courier New',monospace\"><span style=\"font-weight: bold\"> Non-trainable params: </span><span style=\"color: #00af00; text-decoration-color: #00af00\">0</span> (0.00 B)\n",
       "</pre>\n"
      ],
      "text/plain": [
       "\u001b[1m Non-trainable params: \u001b[0m\u001b[38;5;34m0\u001b[0m (0.00 B)\n"
      ]
     },
     "metadata": {},
     "output_type": "display_data"
    },
    {
     "data": {
      "text/html": [
       "<pre style=\"white-space:pre;overflow-x:auto;line-height:normal;font-family:Menlo,'DejaVu Sans Mono',consolas,'Courier New',monospace\"><span style=\"font-weight: bold\"> Optimizer params: </span><span style=\"color: #00af00; text-decoration-color: #00af00\">2</span> (12.00 B)\n",
       "</pre>\n"
      ],
      "text/plain": [
       "\u001b[1m Optimizer params: \u001b[0m\u001b[38;5;34m2\u001b[0m (12.00 B)\n"
      ]
     },
     "metadata": {},
     "output_type": "display_data"
    }
   ],
   "source": [
    "# Load the pre-trained model with ReLU activation\n",
    "model = load_model('simple_rnn_imdb.h5')\n",
    "model.summary()"
   ]
  },
  {
   "cell_type": "code",
   "execution_count": 6,
   "metadata": {},
   "outputs": [
    {
     "data": {
      "text/plain": [
       "[array([[ 0.27897313, -0.19380006, -0.31023064, ...,  0.25842282,\n",
       "         -0.294176  , -0.1147678 ],\n",
       "        [-0.01433322, -0.02010519,  0.02797669, ...,  0.04043072,\n",
       "         -0.04491326, -0.02470602],\n",
       "        [ 0.03200336, -0.01650168,  0.04064205, ...,  0.05202566,\n",
       "         -0.12146244, -0.07286568],\n",
       "        ...,\n",
       "        [ 0.03954174, -0.0300505 ,  0.01035369, ...,  0.06897759,\n",
       "          0.01532725, -0.09352545],\n",
       "        [-0.00770677, -0.00909173,  0.03536735, ...,  0.04263387,\n",
       "         -0.01214296,  0.04181661],\n",
       "        [-0.02849541, -0.02676132,  0.12248423, ...,  0.0550523 ,\n",
       "          0.02630847, -0.03435608]], shape=(10000, 128), dtype=float32),\n",
       " array([[ 0.14543623, -0.03672154, -0.00185821, ...,  0.01666872,\n",
       "         -0.09108866, -0.03468319],\n",
       "        [-0.15024583,  0.01653406, -0.12690769, ...,  0.0599977 ,\n",
       "         -0.09397635, -0.09495261],\n",
       "        [-0.13645342,  0.06324523, -0.03089536, ..., -0.03997698,\n",
       "          0.16475199,  0.11165057],\n",
       "        ...,\n",
       "        [ 0.13832796, -0.04158682,  0.03078179, ...,  0.05352313,\n",
       "          0.10682237, -0.092724  ],\n",
       "        [ 0.1190248 ,  0.0998534 , -0.15577969, ...,  0.10864479,\n",
       "          0.14864536,  0.11968904],\n",
       "        [-0.14378491, -0.06182428, -0.14778005, ..., -0.15227056,\n",
       "         -0.04997467,  0.18987957]], shape=(128, 128), dtype=float32),\n",
       " array([[-0.08358628, -0.06767546, -0.06246239, ..., -0.04648961,\n",
       "          0.10092743, -0.05807862],\n",
       "        [-0.01682075, -0.06650034,  0.1423605 , ...,  0.09165767,\n",
       "          0.01634048, -0.11494053],\n",
       "        [-0.12013116,  0.07867771,  0.15427022, ...,  0.02911698,\n",
       "         -0.05274047, -0.00073147],\n",
       "        ...,\n",
       "        [ 0.13152118,  0.08854234,  0.31730735, ..., -0.07263752,\n",
       "          0.01045795, -0.02378466],\n",
       "        [ 0.03978669,  0.01116639, -0.01921586, ..., -0.09452351,\n",
       "         -0.04874897, -0.00877233],\n",
       "        [ 0.17072503, -0.10496794,  0.02765991, ..., -0.04540798,\n",
       "         -0.14731953,  0.04061456]], shape=(128, 128), dtype=float32),\n",
       " array([ 0.04335985,  0.03389721,  0.02665485, -0.0053109 ,  0.01484853,\n",
       "         0.00224975, -0.02322209, -0.01379851,  0.03977206,  0.03249664,\n",
       "        -0.01169953,  0.00134072,  0.00182384,  0.01902058,  0.01524681,\n",
       "        -0.01261215, -0.0372996 , -0.02299375, -0.00657495,  0.00817071,\n",
       "         0.01374015, -0.02834979, -0.01052627,  0.01385759, -0.02605486,\n",
       "         0.03251477, -0.01379413, -0.00824741, -0.04168532,  0.01063063,\n",
       "        -0.01843876,  0.00941492, -0.00494309, -0.00634687,  0.01776396,\n",
       "        -0.02657108, -0.01581709,  0.00976991,  0.02710483, -0.00693801,\n",
       "        -0.00770933, -0.01670204,  0.00101218, -0.02334769, -0.00851531,\n",
       "         0.00809398,  0.01896631,  0.0162752 , -0.00961787,  0.02183238,\n",
       "         0.02837927, -0.00085798,  0.00100507,  0.02773545, -0.01382024,\n",
       "        -0.00617187,  0.04042412,  0.03258682, -0.01549191, -0.02880286,\n",
       "        -0.00806818, -0.03206724,  0.01161826, -0.02202088, -0.02153192,\n",
       "         0.0231499 , -0.02120728,  0.03774347, -0.00539361, -0.00357894,\n",
       "        -0.02381242,  0.00687344, -0.0009419 ,  0.01135309, -0.00306035,\n",
       "        -0.02621172, -0.00375024, -0.01691297, -0.01437506,  0.00349547,\n",
       "         0.07968416, -0.03923796,  0.02788964, -0.0061977 , -0.00394903,\n",
       "        -0.01552567,  0.02301458, -0.02603314,  0.00467993, -0.0108698 ,\n",
       "         0.02265699,  0.0058658 ,  0.00248209, -0.00559765,  0.00768697,\n",
       "        -0.03248933, -0.04054703,  0.01363799, -0.00773278, -0.00631626,\n",
       "         0.0452331 ,  0.00199509,  0.02623031, -0.00228119, -0.03331291,\n",
       "        -0.03749029, -0.03723798, -0.0248761 ,  0.01033188, -0.01213836,\n",
       "        -0.00192932,  0.02884048, -0.01947803,  0.01934551, -0.00243914,\n",
       "        -0.00430779,  0.0018769 ,  0.02150619, -0.01576883,  0.03460212,\n",
       "         0.02880102,  0.01748423, -0.00155251, -0.04276304,  0.01923363,\n",
       "        -0.00759212, -0.01876779, -0.036376  ], dtype=float32),\n",
       " array([[ 0.18036854],\n",
       "        [ 0.43681645],\n",
       "        [ 0.1364532 ],\n",
       "        [-0.18719858],\n",
       "        [ 0.10453101],\n",
       "        [-0.05756965],\n",
       "        [-0.2930285 ],\n",
       "        [-0.06977478],\n",
       "        [-0.07462908],\n",
       "        [-0.14484204],\n",
       "        [-0.04776571],\n",
       "        [-0.08201119],\n",
       "        [-0.18421566],\n",
       "        [ 0.21719988],\n",
       "        [-0.10673191],\n",
       "        [-0.11992894],\n",
       "        [-0.05961186],\n",
       "        [-0.16632712],\n",
       "        [-0.17260997],\n",
       "        [ 0.01805004],\n",
       "        [ 0.06996927],\n",
       "        [-0.17680167],\n",
       "        [-0.18733343],\n",
       "        [ 0.05116205],\n",
       "        [-0.12169632],\n",
       "        [ 0.0214041 ],\n",
       "        [-0.11459215],\n",
       "        [-0.01300093],\n",
       "        [ 0.24168561],\n",
       "        [-0.09894577],\n",
       "        [-0.11258117],\n",
       "        [-0.00934701],\n",
       "        [-0.07545779],\n",
       "        [-0.16842917],\n",
       "        [-0.15970995],\n",
       "        [-0.15348281],\n",
       "        [ 0.44356543],\n",
       "        [ 0.17196572],\n",
       "        [-0.04793305],\n",
       "        [ 0.04752824],\n",
       "        [-0.15602979],\n",
       "        [-0.5737557 ],\n",
       "        [-0.05683669],\n",
       "        [-0.12737645],\n",
       "        [-0.14574157],\n",
       "        [-0.36271864],\n",
       "        [-0.15252285],\n",
       "        [-0.1691269 ],\n",
       "        [ 0.07407472],\n",
       "        [ 0.0960015 ],\n",
       "        [ 0.19022183],\n",
       "        [-0.09906913],\n",
       "        [-0.20304523],\n",
       "        [ 0.10743561],\n",
       "        [-0.1157812 ],\n",
       "        [-0.00387886],\n",
       "        [ 0.12726428],\n",
       "        [ 0.03552365],\n",
       "        [ 0.05590029],\n",
       "        [-0.18511656],\n",
       "        [-0.08843723],\n",
       "        [ 0.01977696],\n",
       "        [-0.2227325 ],\n",
       "        [-0.17269638],\n",
       "        [-0.15010881],\n",
       "        [ 0.26162428],\n",
       "        [ 0.0797288 ],\n",
       "        [-0.09901123],\n",
       "        [-0.03848212],\n",
       "        [ 0.04962369],\n",
       "        [-0.01050562],\n",
       "        [ 0.16977306],\n",
       "        [ 0.16881028],\n",
       "        [ 0.07110752],\n",
       "        [-0.19012764],\n",
       "        [-0.2080093 ],\n",
       "        [-0.03902834],\n",
       "        [ 0.6201035 ],\n",
       "        [ 0.2621643 ],\n",
       "        [-0.1609943 ],\n",
       "        [ 0.05668931],\n",
       "        [ 0.01971836],\n",
       "        [ 0.01995028],\n",
       "        [-0.10676536],\n",
       "        [-0.22529466],\n",
       "        [ 0.03600004],\n",
       "        [ 0.12746331],\n",
       "        [-0.18371972],\n",
       "        [ 0.12256166],\n",
       "        [-0.14293003],\n",
       "        [ 0.21302612],\n",
       "        [ 0.2274054 ],\n",
       "        [ 0.18824022],\n",
       "        [-0.09161564],\n",
       "        [ 0.040496  ],\n",
       "        [-0.13897511],\n",
       "        [ 0.0084605 ],\n",
       "        [-0.11849811],\n",
       "        [ 0.02482206],\n",
       "        [-0.06792098],\n",
       "        [-0.02636908],\n",
       "        [ 0.03827019],\n",
       "        [ 0.15825474],\n",
       "        [-0.05242418],\n",
       "        [ 0.0153459 ],\n",
       "        [-0.18954614],\n",
       "        [-0.16073094],\n",
       "        [-0.05043609],\n",
       "        [-0.05710947],\n",
       "        [ 0.5401177 ],\n",
       "        [-0.21632107],\n",
       "        [-0.03413659],\n",
       "        [-0.1685206 ],\n",
       "        [ 0.1731991 ],\n",
       "        [ 0.28146762],\n",
       "        [-0.03425903],\n",
       "        [ 0.0244725 ],\n",
       "        [ 0.02946662],\n",
       "        [-0.00471408],\n",
       "        [ 0.18173936],\n",
       "        [-0.16798516],\n",
       "        [ 0.02344652],\n",
       "        [ 0.03148074],\n",
       "        [-0.05652994],\n",
       "        [-0.17208672],\n",
       "        [-0.06399575],\n",
       "        [-0.23179539],\n",
       "        [-0.25906798]], dtype=float32),\n",
       " array([-1.2821442], dtype=float32)]"
      ]
     },
     "execution_count": 6,
     "metadata": {},
     "output_type": "execute_result"
    }
   ],
   "source": [
    "model.get_weights()"
   ]
  },
  {
   "cell_type": "code",
   "execution_count": 7,
   "metadata": {},
   "outputs": [],
   "source": [
    "# Step 2: Helper Functions\n",
    "# Function to decode reviews\n",
    "def decode_review(encoded_review):\n",
    "    return ' '.join([reverse_word_index.get(i - 3, '?') for i in encoded_review])\n",
    "\n",
    "# Function to preprocess user input\n",
    "def preprocess_text(text):\n",
    "    words = text.lower().split()\n",
    "    encoded_review = [word_index.get(word, 2) + 3 for word in words]\n",
    "    padded_review = sequence.pad_sequences([encoded_review], maxlen=500)\n",
    "    return padded_review"
   ]
  },
  {
   "cell_type": "code",
   "execution_count": 8,
   "metadata": {},
   "outputs": [],
   "source": [
    "### Prediction  function\n",
    "\n",
    "def predict_sentiment(review):\n",
    "    preprocessed_input=preprocess_text(review)\n",
    "\n",
    "    prediction=model.predict(preprocessed_input)\n",
    "\n",
    "    sentiment = 'Positive' if prediction[0][0] > 0.5 else 'Negative'\n",
    "    \n",
    "    return sentiment, prediction[0][0]\n",
    "\n"
   ]
  },
  {
   "cell_type": "code",
   "execution_count": null,
   "metadata": {},
   "outputs": [
    {
     "name": "stdout",
     "output_type": "stream",
     "text": [
      "\u001b[1m1/1\u001b[0m \u001b[32m━━━━━━━━━━━━━━━━━━━━\u001b[0m\u001b[37m\u001b[0m \u001b[1m0s\u001b[0m 36ms/step\n",
      "Review: This movie was bad! The acting was trash and the plot was thrilling.\n",
      "Sentiment: Positive\n",
      "Prediction Score: 0.9999150633811951\n"
     ]
    }
   ],
   "source": [
    "# Step 4: User Input and Prediction\n",
    "# Example review for prediction\n",
    "example_review = \"This movie was bad! The acting was trash \"\n",
    "\n",
    "sentiment,score=predict_sentiment(example_review)\n",
    "\n",
    "print(f'Review: {example_review}')\n",
    "print(f'Sentiment: {sentiment}')\n",
    "print(f'Prediction Score: {score}')"
   ]
  },
  {
   "cell_type": "code",
   "execution_count": null,
   "metadata": {},
   "outputs": [],
   "source": []
  },
  {
   "cell_type": "code",
   "execution_count": null,
   "metadata": {},
   "outputs": [],
   "source": []
  },
  {
   "cell_type": "code",
   "execution_count": null,
   "metadata": {},
   "outputs": [],
   "source": []
  },
  {
   "cell_type": "code",
   "execution_count": null,
   "metadata": {},
   "outputs": [],
   "source": []
  }
 ],
 "metadata": {
  "kernelspec": {
   "display_name": "venv",
   "language": "python",
   "name": "python3"
  },
  "language_info": {
   "codemirror_mode": {
    "name": "ipython",
    "version": 3
   },
   "file_extension": ".py",
   "mimetype": "text/x-python",
   "name": "python",
   "nbconvert_exporter": "python",
   "pygments_lexer": "ipython3",
   "version": "3.11.0"
  }
 },
 "nbformat": 4,
 "nbformat_minor": 2
}
